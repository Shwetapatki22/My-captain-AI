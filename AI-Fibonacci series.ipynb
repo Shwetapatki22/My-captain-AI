{
 "cells": [
  {
   "cell_type": "code",
   "execution_count": 2,
   "id": "2fa470ec",
   "metadata": {},
   "outputs": [
    {
     "name": "stdout",
     "output_type": "stream",
     "text": [
      "[0, 1, 1, 2, 3, 5, 8, 13, 21, 34]\n"
     ]
    }
   ],
   "source": [
    "def fibonacci(n):\n",
    "    fib_series = [0, 1]  \n",
    "    \n",
    "   \n",
    "    while len(fib_series) < n:\n",
    "        next_fib = fib_series[-1] + fib_series[-2]  \n",
    "        fib_series.append(next_fib) \n",
    "    \n",
    "    return fib_series\n",
    "\n",
    "\n",
    "num_terms = 10  \n",
    "print(fibonacci(num_terms))\n"
   ]
  },
  {
   "cell_type": "code",
   "execution_count": null,
   "id": "e6ca9f7f",
   "metadata": {},
   "outputs": [],
   "source": []
  }
 ],
 "metadata": {
  "kernelspec": {
   "display_name": "Python 3 (ipykernel)",
   "language": "python",
   "name": "python3"
  },
  "language_info": {
   "codemirror_mode": {
    "name": "ipython",
    "version": 3
   },
   "file_extension": ".py",
   "mimetype": "text/x-python",
   "name": "python",
   "nbconvert_exporter": "python",
   "pygments_lexer": "ipython3",
   "version": "3.11.5"
  }
 },
 "nbformat": 4,
 "nbformat_minor": 5
}
