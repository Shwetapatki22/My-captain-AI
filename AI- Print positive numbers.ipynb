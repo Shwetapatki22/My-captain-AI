{
 "cells": [
  {
   "cell_type": "code",
   "execution_count": 1,
   "id": "5aec8512",
   "metadata": {},
   "outputs": [
    {
     "name": "stdout",
     "output_type": "stream",
     "text": [
      "Input: [12, -7, 5, 64, -14] Output: [12, 5, 64]\n",
      "Input: [12, 14, -95, 3] Output: [12, 14, 3]\n"
     ]
    }
   ],
   "source": [
    "def print_positive_numbers(nums):\n",
    "    positive_nums = [num for num in nums if num > 0]\n",
    "    print(\"Output:\", positive_nums)\n",
    "\n",
    " \n",
    "list1 = [12, -7, 5, 64, -14]\n",
    "print(\"Input:\", list1, end=\" \")\n",
    "print_positive_numbers(list1)\n",
    "\n",
    "list2 = [12, 14, -95, 3]\n",
    "print(\"Input:\", list2, end=\" \")\n",
    "print_positive_numbers(list2)\n"
   ]
  },
  {
   "cell_type": "code",
   "execution_count": null,
   "id": "cda1a196",
   "metadata": {},
   "outputs": [],
   "source": []
  }
 ],
 "metadata": {
  "kernelspec": {
   "display_name": "Python 3 (ipykernel)",
   "language": "python",
   "name": "python3"
  },
  "language_info": {
   "codemirror_mode": {
    "name": "ipython",
    "version": 3
   },
   "file_extension": ".py",
   "mimetype": "text/x-python",
   "name": "python",
   "nbconvert_exporter": "python",
   "pygments_lexer": "ipython3",
   "version": "3.11.5"
  }
 },
 "nbformat": 4,
 "nbformat_minor": 5
}
