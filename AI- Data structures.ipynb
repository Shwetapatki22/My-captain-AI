{
 "cells": [
  {
   "cell_type": "code",
   "execution_count": 1,
   "id": "550c97f5",
   "metadata": {},
   "outputs": [
    {
     "name": "stdout",
     "output_type": "stream",
     "text": [
      "Union of E and N: {0, 1, 2, 3, 4, 5, 6, 8}\n",
      "Intersection of E and N: {2, 4}\n",
      "Difference of E and N: {0, 8, 6}\n",
      "Symmetric Difference of E and N: {0, 1, 3, 5, 6, 8}\n"
     ]
    }
   ],
   "source": [
    "# Sets E and N\n",
    "E = {0, 2, 4, 6, 8}\n",
    "N = {1, 2, 3, 4, 5}\n",
    "\n",
    "# Union of E and N\n",
    "union_result = E.union(N)\n",
    "print(\"Union of E and N:\", union_result)\n",
    "\n",
    "# Intersection of E and N\n",
    "intersection_result = E.intersection(N)\n",
    "print(\"Intersection of E and N:\", intersection_result)\n",
    "\n",
    "# Difference of E and N\n",
    "difference_result = E.difference(N)\n",
    "print(\"Difference of E and N:\", difference_result)\n",
    "\n",
    "# Symmetric Difference of E and N\n",
    "symmetric_difference_result = E.symmetric_difference(N)\n",
    "print(\"Symmetric Difference of E and N:\", symmetric_difference_result)"
   ]
  },
  {
   "cell_type": "code",
   "execution_count": null,
   "id": "c1201210",
   "metadata": {},
   "outputs": [],
   "source": []
  }
 ],
 "metadata": {
  "kernelspec": {
   "display_name": "Python 3 (ipykernel)",
   "language": "python",
   "name": "python3"
  },
  "language_info": {
   "codemirror_mode": {
    "name": "ipython",
    "version": 3
   },
   "file_extension": ".py",
   "mimetype": "text/x-python",
   "name": "python",
   "nbconvert_exporter": "python",
   "pygments_lexer": "ipython3",
   "version": "3.11.5"
  }
 },
 "nbformat": 4,
 "nbformat_minor": 5
}
